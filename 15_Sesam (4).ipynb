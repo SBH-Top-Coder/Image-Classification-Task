{
  "nbformat": 4,
  "nbformat_minor": 0,
  "metadata": {
    "accelerator": "GPU",
    "colab": {
      "name": "15- Sesam.ipynb",
      "provenance": [],
      "collapsed_sections": []
    },
    "kernelspec": {
      "display_name": "Python 3",
      "name": "python3"
    },
    "language_info": {
      "name": "python"
    }
  },
  "cells": [
    {
      "cell_type": "code",
      "metadata": {
        "colab": {
          "base_uri": "https://localhost:8080/"
        },
        "id": "TTGrf3LfhqrP",
        "outputId": "fc15cf43-482c-404e-b18d-f380a2f58480"
      },
      "source": [
        "from google.colab import drive \n",
        "drive.mount ('/content/drive')"
      ],
      "execution_count": null,
      "outputs": [
        {
          "output_type": "stream",
          "name": "stdout",
          "text": [
            "Mounted at /content/drive\n"
          ]
        }
      ]
    },
    {
      "cell_type": "code",
      "metadata": {
        "id": "SkKCegC2hrbK"
      },
      "source": [
        "import tensorflow as tf\n",
        "import tensorflow_datasets as tfdb\n",
        "import keras\n",
        "from tensorflow.keras.applications.vgg19 import VGG19\n",
        "from keras.preprocessing.image import ImageDataGenerator\n",
        "import os\n",
        "import numpy as np"
      ],
      "execution_count": null,
      "outputs": []
    },
    {
      "cell_type": "markdown",
      "metadata": {
        "id": "uKkPuBQVyker"
      },
      "source": [
        "A. With Pretrained model"
      ]
    },
    {
      "cell_type": "code",
      "metadata": {
        "id": "RgvbyKQWJES0"
      },
      "source": [
        "def pretrained_model (weights,input_shape):\n",
        "  base_model = VGG19(weights=weights, include_top=False, input_shape=input_shape)\n",
        "  return base_model"
      ],
      "execution_count": null,
      "outputs": []
    },
    {
      "cell_type": "code",
      "metadata": {
        "id": "I-WXEgqIJVAU"
      },
      "source": [
        "DATASET_PATH = \"/content/drive/MyDrive/archive (2).zip (Unzipped Files)/15-Scene/\"\n",
        "\n",
        "def prepare_data_set (DATASET_PATH):\n",
        "  one_hot_lookup = np.eye(15) # 15 classes\n",
        "\n",
        "  dataset_x_train = []\n",
        "  dataset_y_train = []\n",
        "  \n",
        "  dataset_x_test = []\n",
        "  dataset_y_test = []\n",
        "  \n",
        "  for category in sorted(os.listdir(DATASET_PATH)):\n",
        "      s = 0\n",
        "      print('loading category: '+str(int(category)))\n",
        "      for fname in os.listdir(DATASET_PATH+category):\n",
        "            s = s + 1 \n",
        "            if (s <100):\n",
        "              img = cv2.imread(DATASET_PATH+category+'/'+fname, 2)\n",
        "              img = cv2.resize(img, (224,224))\n",
        "              dataset_x_train.append(np.reshape(img, [224,224,1]))\n",
        "              dataset_y_train.append(np.reshape(one_hot_lookup[int(category)], [15]))\n",
        "            else : \n",
        "              dataset_x_test.append(np.reshape(img, [224,224,1]))\n",
        "              dataset_y_test.append(np.reshape(one_hot_lookup[int(category)], [15]))\n",
        "\n",
        "  x_train = np.array(dataset_x_train)\n",
        "  y_train = np.array(dataset_y_train)\n",
        "  x_test = np.array(dataset_x_test)\n",
        "  y_test = np.array(dataset_y_test)\n",
        "\n",
        "  p = np.random.permutation(len(x_train))\n",
        "  x_train = x_train[p]\n",
        "  y_train = y_train[p]\n",
        "\n",
        "  p = np.random.permutation(len(x_test))\n",
        "  x_test = x_test[p]\n",
        "  y_test = y_test[p]\n",
        " \n",
        "  return x_train , y_train , x_test , y_test\n",
        "\n"
      ],
      "execution_count": null,
      "outputs": []
    },
    {
      "cell_type": "code",
      "metadata": {
        "colab": {
          "base_uri": "https://localhost:8080/"
        },
        "id": "0vZ1qWm0f7qr",
        "outputId": "865ce399-70e4-49e9-ee9a-ca0701e31835"
      },
      "source": [
        "import cv2\n",
        "X_train , Y_train , X_test , Y_test = prepare_data_set (DATASET_PATH)"
      ],
      "execution_count": null,
      "outputs": [
        {
          "output_type": "stream",
          "name": "stdout",
          "text": [
            "loading category: 0\n",
            "loading category: 1\n",
            "loading category: 2\n",
            "loading category: 3\n",
            "loading category: 4\n",
            "loading category: 5\n",
            "loading category: 6\n",
            "loading category: 7\n",
            "loading category: 8\n",
            "loading category: 9\n",
            "loading category: 10\n",
            "loading category: 11\n",
            "loading category: 12\n",
            "loading category: 13\n",
            "loading category: 14\n"
          ]
        }
      ]
    },
    {
      "cell_type": "code",
      "metadata": {
        "id": "EvPXDIGRJVB5"
      },
      "source": [
        "def label_encoder (labels) : \n",
        "  encoded_labels = [list(labels[i]).index(1) for i in range (labels.shape[0]) ]\n",
        "  return encoded_labels"
      ],
      "execution_count": null,
      "outputs": []
    },
    {
      "cell_type": "code",
      "metadata": {
        "id": "K84ovB03RjTL"
      },
      "source": [
        "Y_train = label_encoder (Y_train)\n",
        "Y_test = label_encoder (Y_test)"
      ],
      "execution_count": null,
      "outputs": []
    },
    {
      "cell_type": "code",
      "metadata": {
        "colab": {
          "base_uri": "https://localhost:8080/"
        },
        "id": "WM6qXhFkJVGZ",
        "outputId": "2f312d67-6372-4363-f697-6b35c4d4baaf"
      },
      "source": [
        "base_model_1 = pretrained_model ('imagenet',input_shape=(224,224, 3))"
      ],
      "execution_count": null,
      "outputs": [
        {
          "output_type": "stream",
          "name": "stdout",
          "text": [
            "Downloading data from https://storage.googleapis.com/tensorflow/keras-applications/vgg19/vgg19_weights_tf_dim_ordering_tf_kernels_notop.h5\n",
            "80142336/80134624 [==============================] - 1s 0us/step\n",
            "80150528/80134624 [==============================] - 1s 0us/step\n"
          ]
        }
      ]
    },
    {
      "cell_type": "code",
      "metadata": {
        "id": "8bO25t0-SnKh"
      },
      "source": [
        "def feature_extractor_1(X) : \n",
        "  rgb_batch = np.repeat(X[..., np.newaxis], 3, -2)\n",
        "  rgb_batch = rgb_batch[:,:,:,:,0]\n",
        "  extracted_features = base_model_1.predict(rgb_batch)\n",
        "  exctracted_features = np.reshape(extracted_features,(X.shape[0],7*7*512) )\n",
        "  return exctracted_features"
      ],
      "execution_count": null,
      "outputs": []
    },
    {
      "cell_type": "code",
      "metadata": {
        "colab": {
          "base_uri": "https://localhost:8080/"
        },
        "id": "6zkMFWdWgs7g",
        "outputId": "128bd489-93b0-467c-9ea9-d9eec3276263"
      },
      "source": [
        "import time\n",
        "start = time.time()\n",
        "train_exctracted_features = feature_extractor_1(X_train)\n",
        "print(\"Total time: \", time.time() - start, \"seconds\")\n"
      ],
      "execution_count": null,
      "outputs": [
        {
          "output_type": "stream",
          "name": "stdout",
          "text": [
            "Total time:  61.68860173225403 seconds\n"
          ]
        }
      ]
    },
    {
      "cell_type": "code",
      "metadata": {
        "colab": {
          "base_uri": "https://localhost:8080/"
        },
        "id": "93XCKtiwJVKW",
        "outputId": "8c217fa8-a3b4-472c-ced0-ee7da5cb086c"
      },
      "source": [
        "from sklearn.svm import SVC\n",
        "import time\n",
        "start = time.time()\n",
        "svm_model_linear = SVC(kernel = 'rbf', C = 10).fit(train_exctracted_features,Y_train )\n",
        "print(\"Total time: \", time.time() - start, \"seconds\")\n"
      ],
      "execution_count": null,
      "outputs": [
        {
          "output_type": "stream",
          "name": "stdout",
          "text": [
            "Total time:  170.03956842422485 seconds\n"
          ]
        }
      ]
    },
    {
      "cell_type": "code",
      "metadata": {
        "colab": {
          "base_uri": "https://localhost:8080/"
        },
        "id": "FEQH_kpaLyHH",
        "outputId": "65327327-5b97-432d-cc9e-f08412918e82"
      },
      "source": [
        "import time\n",
        "start = time.time()\n",
        "test_exctracted_features = feature_extractor_1(X_test)\n",
        "print(\"Total time: \", time.time() - start, \"seconds\")\n"
      ],
      "execution_count": null,
      "outputs": [
        {
          "output_type": "stream",
          "name": "stdout",
          "text": [
            "Total time:  6.694871664047241 seconds\n"
          ]
        }
      ]
    },
    {
      "cell_type": "code",
      "metadata": {
        "id": "ga0Heu65UeuB"
      },
      "source": [
        "svm_predictions = svm_model_linear.predict(test_exctracted_features)"
      ],
      "execution_count": null,
      "outputs": []
    },
    {
      "cell_type": "code",
      "metadata": {
        "colab": {
          "base_uri": "https://localhost:8080/"
        },
        "id": "srxnEy94b3Ed",
        "outputId": "c0f4ba2e-57d4-4621-8c2e-3863658e01d4"
      },
      "source": [
        "from sklearn.metrics import accuracy_score\n",
        "accuracy_score (svm_predictions,Y_test)\n"
      ],
      "execution_count": null,
      "outputs": [
        {
          "output_type": "execute_result",
          "data": {
            "text/plain": [
              "0.8023575638506876"
            ]
          },
          "metadata": {},
          "execution_count": 63
        }
      ]
    },
    {
      "cell_type": "markdown",
      "metadata": {
        "id": "U-5kxREryfl-"
      },
      "source": [
        "B . No pretrained model"
      ]
    },
    {
      "cell_type": "code",
      "metadata": {
        "id": "Uv6SEShtb3HN"
      },
      "source": [
        "from keras import layers\n",
        "base_model_2 = keras.Sequential(\n",
        "    [\n",
        "        keras.Input(shape=(224,224,5)),\n",
        "        layers.Conv2D(32, 3, padding=\"valid\", activation=\"relu\"),\n",
        "        layers.MaxPooling2D(),\n",
        "        layers.Conv2D(64, 3, activation=\"relu\"),\n",
        "        layers.MaxPooling2D(),\n",
        "        layers.Conv2D(128, 3, activation=\"relu\"),\n",
        "        layers.MaxPooling2D(),\n",
        "        # layers.Conv2D(256, 3, activation=\"relu\"),\n",
        "        # layers.MaxPooling2D(),\n",
        "        layers.Conv2D(512, 4, activation=\"relu\"),\n",
        "    ])"
      ],
      "execution_count": null,
      "outputs": []
    },
    {
      "cell_type": "code",
      "metadata": {
        "colab": {
          "base_uri": "https://localhost:8080/"
        },
        "id": "9_4SoMbZ62h9",
        "outputId": "a47a6f46-09dd-4f51-f0d6-0972cc468771"
      },
      "source": [
        "base_model_2.output"
      ],
      "execution_count": null,
      "outputs": [
        {
          "output_type": "execute_result",
          "data": {
            "text/plain": [
              "<KerasTensor: shape=(None, 23, 23, 512) dtype=float32 (created by layer 'conv2d_66')>"
            ]
          },
          "metadata": {},
          "execution_count": 117
        }
      ]
    },
    {
      "cell_type": "code",
      "metadata": {
        "id": "zOqowliub3Kq"
      },
      "source": [
        "def feature_extractor_2(X) : \n",
        "  rgb_batch = np.repeat(X[..., np.newaxis], 5, -2)\n",
        "  rgb_batch = rgb_batch[:,:,:,:,0]\n",
        "  extracted_features = base_model_2.predict(rgb_batch)\n",
        "  exctracted_features = np.reshape(extracted_features,(X.shape[0],23*23*512) )\n",
        "  return exctracted_features"
      ],
      "execution_count": null,
      "outputs": []
    },
    {
      "cell_type": "code",
      "metadata": {
        "colab": {
          "base_uri": "https://localhost:8080/"
        },
        "id": "SlHgIPkNb3Sg",
        "outputId": "154224bb-c854-4c97-f8ee-bc73499c3f3b"
      },
      "source": [
        "import time\n",
        "start = time.time()\n",
        "train_exctracted_features = feature_extractor_2(X_train)\n",
        "print(\"Total time: \", time.time() - start, \"seconds\")\n"
      ],
      "execution_count": null,
      "outputs": [
        {
          "output_type": "stream",
          "name": "stdout",
          "text": [
            "Total time:  5.250510931015015 seconds\n"
          ]
        }
      ]
    },
    {
      "cell_type": "code",
      "metadata": {
        "id": "hRDL8Z8nb3V6"
      },
      "source": [
        "from sklearn.svm import SVC\n",
        "import time \n",
        "start = time.time()\n",
        "svm_model_linear = SVC(kernel = 'rbf', C = 10).fit(train_exctracted_features,Y_train )\n",
        "print(\"Total time: \", time.time() - start, \"seconds\")\n"
      ],
      "execution_count": null,
      "outputs": []
    },
    {
      "cell_type": "code",
      "metadata": {
        "id": "FLUJHqWjMBZs"
      },
      "source": [
        "import time \n",
        "start = time.time()\n",
        "test_exctracted_features = feature_extractor_2(X_test)\n",
        "print(\"Total time: \", time.time() - start, \"seconds\")\n"
      ],
      "execution_count": null,
      "outputs": []
    },
    {
      "cell_type": "code",
      "metadata": {
        "id": "8RjToEVbVGap"
      },
      "source": [
        "svm_predictions = svm_model_linear.predict(test_exctracted_features)"
      ],
      "execution_count": null,
      "outputs": []
    },
    {
      "cell_type": "code",
      "metadata": {
        "id": "BnROpQNyutbo"
      },
      "source": [
        "from sklearn.metrics import accuracy_score\n",
        "accuracy_score (svm_predictions,Y_test)"
      ],
      "execution_count": null,
      "outputs": []
    },
    {
      "cell_type": "code",
      "metadata": {
        "id": "z_Bk-PAHuvL2"
      },
      "source": [
        ""
      ],
      "execution_count": null,
      "outputs": []
    }
  ]
}